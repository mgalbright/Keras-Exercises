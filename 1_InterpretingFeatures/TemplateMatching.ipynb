{
 "cells": [
  {
   "cell_type": "markdown",
   "metadata": {
    "deletable": true,
    "editable": true
   },
   "source": [
    "# Interpreting Neural Network Weights\n",
    "\n",
    "Neural nets (especially deep neural nets) are some of the most powerful machine learning algorithms available.  However, it can be difficult to understand (intuitively) how they work.  \n",
    "\n",
    "In the first part of this notebook, I highlight the connection between neural networks and template matching--a simple technique for classification that is popular in computer vision and signal processing.  I find this observation is helpful for intution about how neural nets classify images--I hope you find this useful too!\n",
    "\n",
    "In the second part of the notebook, I point out that for convolutional neural nets it can be helpful to think of weights as sliding filters (e.g. edge detecting filters) which in the early network layers detect low-level image features .\n",
    "\n",
    "## Template Matching\n",
    "\n",
    "[Template matching](https://en.wikipedia.org/wiki/Template_matching) is used in computer vision to compare images.  It does this by treating images as vectors and computing their dot product: very similar images give a large dot product, and very disimilar images give a small (or negative) dot product.  Why?\n",
    "\n",
    "Mathematically, if you represent images as vectors, you can compute the difference between two images $I_1$ and $I_2$ like  \n",
    "$$|I_1 - I_2 |^2 = |I_1|^2 + |I_2|^2 - 2 \\, I_1 \\cdot I_2$$  \n",
    "Note that the dot product $I_1 \\cdot I_2$ between two images is largest when the difference $|I_1 - I_2|$ between images is smallest, and vice versa.  \n",
    "\n",
    "For example, here's a template for each digit:"
   ]
  },
  {
   "cell_type": "code",
   "execution_count": 1,
   "metadata": {
    "collapsed": false,
    "deletable": true,
    "editable": true
   },
   "outputs": [
    {
     "data": {
      "image/png": "[encoded data removed]",
      "text/plain": [
       "<matplotlib.figure.Figure at 0x1043d1da0>"
      ]
     },
     "metadata": {},
     "output_type": "display_data"
    }
   ],
   "source": [
    "import matplotlib.pyplot as plt\n",
    "import cv2\n",
    "\n",
    "templates = []\n",
    "\n",
    "for i in range(10):\n",
    "  img = cv2.imread(\"templates/{}.png\".format(str(i)), cv2.IMREAD_GRAYSCALE)\n",
    "  if img is None:\n",
    "    raise Exception(\"Error: Failed to load image {}\".format(i))\n",
    "    \n",
    "  templates.append(img)\n",
    "  \n",
    "  plt.subplot(2, 5, 1 + i)\n",
    "  plt.imshow(img, cmap=plt.get_cmap('gray'))\n",
    "plt.show() \n"
   ]
  },
  {
   "cell_type": "markdown",
   "metadata": {
    "deletable": true,
    "editable": true
   },
   "source": [
    "We can illustrate template matching by computing the dot products between digit 1 and every other digit.  To make the results more robust, we compute the normalized dot product  \n",
    "$$ \\frac{I_1 \\cdot I_2}{|I_1| |I_2|}$$\n",
    "(It's important to normalize the dot product--otherwise brighter images will give stronger matches than darker ones, and that would not make sense.)  "
   ]
  },
  {
   "cell_type": "code",
   "execution_count": 2,
   "metadata": {
    "collapsed": false,
    "deletable": true,
    "editable": true
   },
   "outputs": [
    {
     "name": "stdout",
     "output_type": "stream",
     "text": [
      " Normalized dot product between 1 and 0 = 0.9185173511505127\n",
      " Normalized dot product between 1 and 1 = 1.0\n",
      " Normalized dot product between 1 and 2 = 0.9375543594360352\n",
      " Normalized dot product between 1 and 3 = 0.9283716678619385\n",
      " Normalized dot product between 1 and 4 = 0.9515999555587769\n",
      " Normalized dot product between 1 and 5 = 0.9398891925811768\n",
      " Normalized dot product between 1 and 6 = 0.9233077168464661\n",
      " Normalized dot product between 1 and 7 = 0.9516004323959351\n",
      " Normalized dot product between 1 and 8 = 0.918259859085083\n",
      " Normalized dot product between 1 and 9 = 0.9280534386634827\n"
     ]
    }
   ],
   "source": [
    "img = templates[1]\n",
    "\n",
    "for i in range(10):\n",
    "  template = templates[i]\n",
    "  print(\" Normalized dot product between 1 and {} = {}\".format(i, \n",
    "    cv2.matchTemplate(img, template, cv2.TM_CCORR_NORMED )[0][0] ))"
   ]
  },
  {
   "cell_type": "markdown",
   "metadata": {
    "deletable": true,
    "editable": true
   },
   "source": [
    "We can see that 1 is more strongly correlated to 1 than any other digit.  That's the principle behind template matching--it can measure image similarity.  \n",
    "\n",
    "Unfortunately, template matching is not robust to changes in image shapes, sizes,  rotations, or partial occlusion.  However, neural nets can be very robust to such image defects--that's why they are more powerful."
   ]
  },
  {
   "cell_type": "markdown",
   "metadata": {
    "deletable": true,
    "editable": true
   },
   "source": [
    "## Viewing Neural Network Weights as Templates\n",
    "\n",
    "In a neuron inside neural net, inputs $x$ (a vector) are combined with weights $W$ (another vector) to generate an output.  Pictorally\n",
    "\n",
    "<img src=\"figs/neuron.png\" style=\"width: 250px;\">\n",
    "\n",
    "The output of the neuron is computed by  \n",
    "$$ f( W \\cdot x + b) $$  \n",
    "where $f$ is called the *activation function* and b is called the *bias term*. Most important for this discussion, the dot product $W \\cdot x$ resembles template matching.\n",
    "\n",
    "As we will show, in very simple neural nets (sometimes called *linear classifiers*) we can interpret the weights $W$ as templates--the neural net learns how to perform template matching!\n",
    "\n",
    "We want to make a linear classifier to recognize digits 0-9.  We implement a softmax architecture (shown below) with 10 outputs.  For example, if digit 7 is recognized, neuron 7 will have an output close to 1 and the remaining neurons will have outputs close to 0.  (FYI, this means we will have to one-hot encode the labels before training.)\n",
    "The input (the image) is $x$, which we draw as a flattened (1d) vector.  There are 10 weight vectors $W_0$ - $W_9$ (one for each neuron).\n",
    "\n",
    "<img src=\"figs/nnet.png\" style=\"width: 400px;\"> \n",
    "\n",
    "We write the $i^{\\mathrm th}$ output as  \n",
    "$$ \\mathrm{output}_i =  f( W_{i} \\cdot x + b_i)$$\n",
    "\n",
    "As we said, we expect each weight vector $W_i$ learned during training will be a template for digit $i$.\n",
    "\n",
    "Let's train the neural net on the MNIST data set (a set of 70,000 images of hand-written digits 0-9.)  We'll use Keras to implement and train the neural net."
   ]
  },
  {
   "cell_type": "code",
   "execution_count": 3,
   "metadata": {
    "collapsed": false,
    "deletable": true,
    "editable": true
   },
   "outputs": [
    {
     "name": "stderr",
     "output_type": "stream",
     "text": [
      "Using TensorFlow backend.\n"
     ]
    },
    {
     "data": {
      "image/png": "[encoded data removed]",
      "text/plain": [
       "<matplotlib.figure.Figure at 0x1112d0438>"
      ]
     },
     "metadata": {},
     "output_type": "display_data"
    }
   ],
   "source": [
    "#Developed with Keras 2.0.2 and the tensorflow backend\n",
    "\n",
    "#Load the MNIST data set of handwritten digits 0-9:\n",
    "import numpy as np\n",
    "from keras.datasets import mnist\n",
    "from keras.utils import np_utils\n",
    "\n",
    "(x_train, y_train), (x_test, y_test) = mnist.load_data()\n",
    "\n",
    "#Invert the image colors, convert to float, and normalize values:\n",
    "x_train = (255 - x_train).astype('float')/255.0\n",
    "x_test  = (255 - x_test).astype('float')/255.0\n",
    "\n",
    "# plot first 5 images\n",
    "for i in range(5):\n",
    "  plt.subplot(1, 5, 1+i)\n",
    "  plt.imshow(x_train[i], cmap=plt.get_cmap('gray'))\n",
    "plt.show()\n",
    "\n",
    "#Let's flatten the images to 1-d vectors for processing\n",
    "image_shape = (28, 28)\n",
    "num_pixels = 28*28\n",
    "x_train = x_train.reshape(x_train.shape[0], num_pixels)\n",
    "x_test = x_test.reshape(x_test.shape[0], num_pixels)"
   ]
  },
  {
   "cell_type": "code",
   "execution_count": 4,
   "metadata": {
    "collapsed": false,
    "deletable": true,
    "editable": true
   },
   "outputs": [],
   "source": [
    "#Now let's one-hot encode the target variable before training\n",
    "y_train = np_utils.to_categorical(y_train)\n",
    "y_test = np_utils.to_categorical(y_test)\n",
    "\n",
    "num_classes = y_test.shape[1]"
   ]
  },
  {
   "cell_type": "markdown",
   "metadata": {
    "deletable": true,
    "editable": true
   },
   "source": [
    "We can see that after 1-hot encoding, each digit label becomes a 10-d vector.  For example, for the digit 1, there is a 1 in position 1 and 0's in all other positions of the 10-d vector:"
   ]
  },
  {
   "cell_type": "code",
   "execution_count": 5,
   "metadata": {
    "collapsed": false,
    "deletable": true,
    "editable": true
   },
   "outputs": [
    {
     "data": {
      "text/plain": [
       "array([ 0.,  1.,  0.,  0.,  0.,  0.,  0.,  0.,  0.,  0.])"
      ]
     },
     "execution_count": 5,
     "metadata": {},
     "output_type": "execute_result"
    }
   ],
   "source": [
    "y_train[3]"
   ]
  },
  {
   "cell_type": "markdown",
   "metadata": {
    "deletable": true,
    "editable": true
   },
   "source": [
    "Now let us create the neural net and train it"
   ]
  },
  {
   "cell_type": "code",
   "execution_count": 6,
   "metadata": {
    "collapsed": false,
    "deletable": true,
    "editable": true
   },
   "outputs": [
    {
     "name": "stdout",
     "output_type": "stream",
     "text": [
      "Train on 60000 samples, validate on 10000 samples\n",
      "Epoch 1/10\n",
      "0s - loss: 0.9814 - acc: 0.7481 - val_loss: 0.5346 - val_acc: 0.8691\n",
      "Epoch 2/10\n",
      "0s - loss: 0.4943 - acc: 0.8691 - val_loss: 0.4239 - val_acc: 0.8866\n",
      "Epoch 3/10\n",
      "0s - loss: 0.4164 - acc: 0.8853 - val_loss: 0.3817 - val_acc: 0.8924\n",
      "Epoch 4/10\n",
      "0s - loss: 0.3813 - acc: 0.8916 - val_loss: 0.3460 - val_acc: 0.9043\n",
      "Epoch 5/10\n",
      "0s - loss: 0.3629 - acc: 0.8967 - val_loss: 0.3361 - val_acc: 0.9082\n",
      "Epoch 6/10\n",
      "0s - loss: 0.3478 - acc: 0.9011 - val_loss: 0.3314 - val_acc: 0.9052\n",
      "Epoch 7/10\n",
      "0s - loss: 0.3368 - acc: 0.9047 - val_loss: 0.3275 - val_acc: 0.9058\n",
      "Epoch 8/10\n",
      "0s - loss: 0.3298 - acc: 0.9051 - val_loss: 0.3099 - val_acc: 0.9114\n",
      "Epoch 9/10\n",
      "0s - loss: 0.3245 - acc: 0.9074 - val_loss: 0.3121 - val_acc: 0.9087\n",
      "Epoch 10/10\n",
      "0s - loss: 0.3197 - acc: 0.9085 - val_loss: 0.3036 - val_acc: 0.9145\n",
      "Baseline Error: 8.55%\n"
     ]
    }
   ],
   "source": [
    "from keras.models import Sequential\n",
    "from keras.layers import Dense\n",
    "from keras.utils import np_utils\n",
    "from keras.utils import plot_model\n",
    "\n",
    "# fix random seed for reproducibility\n",
    "seed = 123\n",
    "np.random.seed(seed)\n",
    "\n",
    "# Define the model:\n",
    "def linear_classifier_model():\n",
    "  \"\"\"single layer, 10 output classes\"\"\"\n",
    "  \n",
    "  # create model\n",
    "  model = Sequential()\n",
    "\n",
    "  # one layer\n",
    "  model.add(Dense(num_classes, kernel_initializer='normal', \n",
    "    activation='softmax', input_shape=(num_pixels,)))\n",
    "  \n",
    "  # Compile model\n",
    "  model.compile(loss='categorical_crossentropy', optimizer='adam', metrics=['accuracy'])\n",
    "  return model\n",
    "\n",
    "#Instantiate model\n",
    "model = linear_classifier_model()\n",
    "\n",
    "#Train model\n",
    "model.fit(x_train, y_train, validation_data=(x_test, y_test), \n",
    "  epochs=10, batch_size=200, verbose=2)\n",
    "\n",
    "# Final evaluation of the model\n",
    "scores = model.evaluate(x_test, y_test, verbose=0)\n",
    "print(\"Baseline Error: %.2f%%\" % (100-scores[1]*100))"
   ]
  },
  {
   "cell_type": "markdown",
   "metadata": {
    "deletable": true,
    "editable": true
   },
   "source": [
    "Keras lets us easily visualize the model to check that it has the correct architecture"
   ]
  },
  {
   "cell_type": "code",
   "execution_count": 7,
   "metadata": {
    "collapsed": false,
    "deletable": true,
    "editable": true
   },
   "outputs": [],
   "source": [
    "plot_model(model, to_file='figs/model.png', show_shapes=True)"
   ]
  },
  {
   "cell_type": "markdown",
   "metadata": {
    "deletable": true,
    "editable": true
   },
   "source": [
    "<img src=\"figs/model.png\">"
   ]
  },
  {
   "cell_type": "markdown",
   "metadata": {
    "deletable": true,
    "editable": true
   },
   "source": [
    "Finally, let us grab the weights from layer dense_1, unflatten the shape, and graph them:"
   ]
  },
  {
   "cell_type": "code",
   "execution_count": 8,
   "metadata": {
    "collapsed": false,
    "deletable": true,
    "editable": true
   },
   "outputs": [
    {
     "data": {
      "image/png": "[encoded data removed]",
      "text/plain": [
       "<matplotlib.figure.Figure at 0x126ffde80>"
      ]
     },
     "metadata": {},
     "output_type": "display_data"
    }
   ],
   "source": [
    "layer_dense_1 = model.get_layer('dense_1')\n",
    "\n",
    "weights1 = layer_dense_1.get_weights()[0]\n",
    "bias1 = layer_dense_1.get_weights()[1]\n",
    "\n",
    "#Cast shape to 2d\n",
    "weights1 = weights1.reshape(28, 28, 10)\n",
    "\n",
    "#lot the weights for the first 4 digits\n",
    "for i in range(4):\n",
    "  plt.subplot(1, 4, 1 + i)\n",
    "  plt.imshow(weights1[:, :, i], cmap=plt.get_cmap('gray'))\n",
    "plt.show()"
   ]
  },
  {
   "cell_type": "markdown",
   "metadata": {
    "deletable": true,
    "editable": true
   },
   "source": [
    "We can see that indeed the learned weights resember digits 0, 1, 2, 3, ... just as we expected of template matching.  \n",
    "\n",
    "For further details, take a look at [http://cs231n.github.io/linear-classify/](http://cs231n.github.io/linear-classify/)"
   ]
  },
  {
   "cell_type": "code",
   "execution_count": null,
   "metadata": {
    "collapsed": true,
    "deletable": true,
    "editable": true
   },
   "outputs": [],
   "source": []
  },
  {
   "cell_type": "code",
   "execution_count": null,
   "metadata": {
    "collapsed": true,
    "deletable": true,
    "editable": true
   },
   "outputs": [],
   "source": []
  },
  {
   "cell_type": "code",
   "execution_count": null,
   "metadata": {
    "collapsed": true,
    "deletable": true,
    "editable": true
   },
   "outputs": [],
   "source": []
  },
  {
   "cell_type": "markdown",
   "metadata": {
    "deletable": true,
    "editable": true
   },
   "source": [
    "## Filters in Convolutional Neural Nets\n",
    "\n",
    "In convolutional neural networks, it is common to use small (3x3 or 5x5) sliding convolutional layers instead of large, fully-connected layers.  In that case, it may be more helpful to think of the weights as sliding filters to detect low-level features such as edges, textures, and blobs.  Indeed, the learned weights often resemble standard image processing filters.  Let us try to see this.\n",
    "\n",
    "First, let us reshape (unflatten) the data so the images are again rectangular:"
   ]
  },
  {
   "cell_type": "code",
   "execution_count": 9,
   "metadata": {
    "collapsed": true,
    "deletable": true,
    "editable": true
   },
   "outputs": [],
   "source": [
    "from keras import backend as K\n",
    "K.set_image_data_format('channels_last')   #specify image format\n",
    "\n",
    "img_shape = (28, 28, 1)\n",
    "x_train = x_train.reshape(x_train.shape[0], 28, 28, 1)\n",
    "x_test = x_test.reshape(x_test.shape[0], 28, 28, 1)"
   ]
  },
  {
   "cell_type": "markdown",
   "metadata": {
    "deletable": true,
    "editable": true
   },
   "source": [
    "Now let us define the neural net:"
   ]
  },
  {
   "cell_type": "code",
   "execution_count": 10,
   "metadata": {
    "collapsed": false,
    "deletable": true,
    "editable": true
   },
   "outputs": [],
   "source": [
    "from keras.layers import Dropout\n",
    "from keras.layers import Flatten\n",
    "from keras.layers.convolutional import Convolution2D\n",
    "from keras.layers.convolutional import MaxPooling2D\n",
    "\n",
    "def covnet_model():\n",
    "  \"\"\"Convolutional neural net\"\"\"\n",
    "  model = Sequential()\n",
    "  \n",
    "  model.add(Convolution2D(32, kernel_size = 7, strides=1, padding='valid', \n",
    "    input_shape=(28, 28, 1), activation='relu'))\n",
    "  \n",
    "  model.add(MaxPooling2D(pool_size=(2, 2)))\n",
    "  \n",
    "  model.add(Dropout(0.2))\n",
    "  \n",
    "  #flatten 3d tensors into 1d vector.  \n",
    "  model.add(Flatten())\n",
    "  \n",
    "  #Add 128 neuron feed forward hidden layer\n",
    "  model.add(Dense(128, activation='relu'))\n",
    "  \n",
    "  #Add output, 10 neurons for 10 target classes, activation is softmax so outputs are \n",
    "  #probabilities\n",
    "  model.add(Dense(num_classes, activation='softmax'))\n",
    "  \n",
    "  # Compile model\n",
    "  model.compile(loss='categorical_crossentropy', optimizer='adam', metrics=['accuracy'])\n",
    "  return model\n",
    "\n",
    "model_covnet = covnet_model()"
   ]
  },
  {
   "cell_type": "markdown",
   "metadata": {
    "deletable": true,
    "editable": true
   },
   "source": [
    "Let us plot the network architecture"
   ]
  },
  {
   "cell_type": "code",
   "execution_count": 11,
   "metadata": {
    "collapsed": false,
    "deletable": true,
    "editable": true
   },
   "outputs": [],
   "source": [
    "plot_model(model_covnet, to_file='figs/model2.png', show_shapes=True)"
   ]
  },
  {
   "cell_type": "markdown",
   "metadata": {
    "deletable": true,
    "editable": true
   },
   "source": [
    "<img src=\"figs/model2.png\" style=\"width: 350px;\">"
   ]
  },
  {
   "cell_type": "markdown",
   "metadata": {
    "deletable": true,
    "editable": true
   },
   "source": [
    "Now let us train the network"
   ]
  },
  {
   "cell_type": "code",
   "execution_count": 12,
   "metadata": {
    "collapsed": false,
    "deletable": true,
    "editable": true
   },
   "outputs": [
    {
     "name": "stdout",
     "output_type": "stream",
     "text": [
      "Train on 60000 samples, validate on 10000 samples\n",
      "Epoch 1/10\n",
      "33s - loss: 0.3017 - acc: 0.9151 - val_loss: 0.0875 - val_acc: 0.9747\n",
      "Epoch 2/10\n",
      "33s - loss: 0.0822 - acc: 0.9762 - val_loss: 0.0568 - val_acc: 0.9818\n",
      "Epoch 3/10\n",
      "33s - loss: 0.0572 - acc: 0.9827 - val_loss: 0.0497 - val_acc: 0.9840\n",
      "Epoch 4/10\n",
      "32s - loss: 0.0451 - acc: 0.9862 - val_loss: 0.0354 - val_acc: 0.9883\n",
      "Epoch 5/10\n",
      "31s - loss: 0.0391 - acc: 0.9880 - val_loss: 0.0348 - val_acc: 0.9883\n",
      "Epoch 6/10\n",
      "30s - loss: 0.0327 - acc: 0.9896 - val_loss: 0.0317 - val_acc: 0.9890\n",
      "Epoch 7/10\n",
      "30s - loss: 0.0284 - acc: 0.9909 - val_loss: 0.0304 - val_acc: 0.9901\n",
      "Epoch 8/10\n",
      "30s - loss: 0.0235 - acc: 0.9923 - val_loss: 0.0339 - val_acc: 0.9888\n",
      "Epoch 9/10\n",
      "30s - loss: 0.0195 - acc: 0.9938 - val_loss: 0.0371 - val_acc: 0.9887\n",
      "Epoch 10/10\n",
      "29s - loss: 0.0170 - acc: 0.9945 - val_loss: 0.0306 - val_acc: 0.9902\n",
      "Baseline Error: 0.98%\n"
     ]
    }
   ],
   "source": [
    "model_covnet.fit(x_train, y_train, validation_data=(x_test, y_test), \n",
    "  epochs=10, batch_size=200, verbose=2)\n",
    "\n",
    "# Final evaluation of the model\n",
    "scores = model_covnet.evaluate(x_test, y_test, verbose=0)\n",
    "print(\"Baseline Error: %.2f%%\" % (100-scores[1]*100))"
   ]
  },
  {
   "cell_type": "markdown",
   "metadata": {
    "deletable": true,
    "editable": true
   },
   "source": [
    "Let us now plot 16 convolutional weights (16 filters) learned in the first convolutional layer:"
   ]
  },
  {
   "cell_type": "code",
   "execution_count": 13,
   "metadata": {
    "collapsed": false,
    "deletable": true,
    "editable": true
   },
   "outputs": [
    {
     "data": {
      "image/png": "[encoded data removed]",
      "text/plain": [
       "<matplotlib.figure.Figure at 0x12745b0b8>"
      ]
     },
     "metadata": {},
     "output_type": "display_data"
    }
   ],
   "source": [
    "layer_conv2d_4 = model_covnet.get_layer('conv2d_1')\n",
    "\n",
    "weights2 = layer_conv2d_4.get_weights()[0]\n",
    "bias2 = layer_conv2d_4.get_weights()[1]\n",
    "\n",
    "#Cast shape to 2d\n",
    "weights2 = weights2.reshape(7, 7, 32)\n",
    "\n",
    "#Now plot the weights for the first 16 filters\n",
    "plt.figure(figsize=(7,5))\n",
    "for i in range(16):\n",
    "  plt.subplot(4, 4, 1 + i)\n",
    "  plt.imshow(weights2[:, :, i], cmap=plt.get_cmap('gray'))\n",
    "plt.show()"
   ]
  },
  {
   "cell_type": "markdown",
   "metadata": {
    "deletable": true,
    "editable": true
   },
   "source": [
    "For comparison, let's plot Sobel filters which are used in computer vision to detect horizontal and vertical edges.  We see that the neural net weights look similar to Sobel filters."
   ]
  },
  {
   "cell_type": "code",
   "execution_count": 14,
   "metadata": {
    "collapsed": false,
    "deletable": true,
    "editable": true
   },
   "outputs": [
    {
     "data": {
      "image/png": "[encoded data removed]",
      "text/plain": [
       "<matplotlib.figure.Figure at 0x11a2e32e8>"
      ]
     },
     "metadata": {},
     "output_type": "display_data"
    }
   ],
   "source": [
    "sobelx = np.array([[1, 2,  0, -2, -1], \n",
    "                   [4, 8,  0, -8, -4],\n",
    "                   [6, 12, 0, -12, -6],\n",
    "                   [4, 8,  0, -8, -4],\n",
    "                   [1, 2,  0, -2, -1]]).astype('float32')/12.0\n",
    "\n",
    "sobely = sobelx.transpose()\n",
    "\n",
    "plt.figure(figsize=(2, 2))\n",
    "plt.subplot(1, 2, 1)\n",
    "plt.imshow(sobelx, cmap=plt.get_cmap('gray'))\n",
    "plt.subplot(1, 2, 2)\n",
    "plt.imshow(sobely, cmap=plt.get_cmap('gray'))\n",
    "plt.show()"
   ]
  }
 ],
 "metadata": {
  "kernelspec": {
   "display_name": "Python [conda root]",
   "language": "python",
   "name": "conda-root-py"
  },
  "language_info": {
   "codemirror_mode": {
    "name": "ipython",
    "version": 3
   },
   "file_extension": ".py",
   "mimetype": "text/x-python",
   "name": "python",
   "nbconvert_exporter": "python",
   "pygments_lexer": "ipython3",
   "version": "3.5.3"
  }
 },
 "nbformat": 4,
 "nbformat_minor": 2
}
